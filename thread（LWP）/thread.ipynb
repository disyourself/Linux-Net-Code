{
 "cells": [
  {
   "cell_type": "markdown",
   "metadata": {},
   "source": [
    "# 线程 Thread Light-Weight-Process"
   ]
  },
  {
   "cell_type": "markdown",
   "metadata": {},
   "source": [
    "## 与进程的区别\n",
    "\n",
    "- 共享资源，在代码段与栈区有自己的区块，其他地方公用\n",
    "\n",
    "<img src= \"./pic/resource_btw_p_t.png\" width=640, heigth=400 >\n",
    "\n",
    "- 非共享资源： 线程ID，信号掩码\n",
    "\n",
    "- 使用getconf GNU_LIBPTHREAD_VERSION 来获取当前线程库版本"
   ]
  }
 ],
 "metadata": {
  "interpreter": {
   "hash": "916dbcbb3f70747c44a77c7bcd40155683ae19c65e1c03b4aa3499c5328201f1"
  },
  "kernelspec": {
   "display_name": "Python 3.8.10 64-bit",
   "language": "python",
   "name": "python3"
  },
  "language_info": {
   "name": "python",
   "version": "3.8.10"
  },
  "orig_nbformat": 4
 },
 "nbformat": 4,
 "nbformat_minor": 2
}
