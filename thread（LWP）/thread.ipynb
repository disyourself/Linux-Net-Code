{
 "cells": [
  {
   "cell_type": "markdown",
   "metadata": {},
   "source": [
    "# 线程 Thread Light-Weight-Process"
   ]
  },
  {
   "cell_type": "markdown",
   "metadata": {},
   "source": [
    "## 与进程的区别\n",
    "\n",
    "- 共享资源，在代码段与栈区有自己的区块，其他地方公用\n",
    "\n",
    "<img src= \"./pic/resource_btw_p_t.png\" width=640, heigth=400 >\n",
    "\n",
    "- 非共享资源： 线程ID，信号掩码\n",
    "\n",
    "- 使用getconf GNU_LIBPTHREAD_VERSION 来获取当前线程库版本"
   ]
  },
  {
   "cell_type": "markdown",
   "metadata": {},
   "source": [
    "# 线程属性函数 pthread_attr_...\n",
    "\n",
    ">int pthread_attr_init(pthread_attr_t *attr);\n",
    "\n",
    "- 将attr初始化\n",
    "\n",
    ">int pthread_attr_destroy(pthread_attr_t *attr);\n",
    "\n",
    "- 销毁属性设置\n",
    "\n",
    ">int pthread_attr_setdetachstate(pthread_attr_t *attr, int detachstate);\n",
    "    \n",
    "- 设置线程分离属性attr\n",
    "    \n",
    "\n",
    ">int pthread_attr_getdetachstate(const pthread_attr_t *attr, int *detachstate);\n",
    "\n",
    "- 获取线程分离属性\n"
   ]
  },
  {
   "cell_type": "markdown",
   "metadata": {},
   "source": [
    "## 互斥锁函数\n",
    "\n",
    ">int pthread_mutex_init(pthread_mutex_t * restrict mutex, cosnt pthread_attr)\n",
    "\n",
    "- restrict : 修饰符，被修饰的指针，不能通过另一个指针修改\n",
    "\n",
    "        pthread_mutex_t restrict mutex;\n",
    "        pthread_mutex_t mutex1 = mutex;\n",
    "        mutex = ... //wrong 不能进行操作\n"
   ]
  },
  {
   "cell_type": "code",
   "execution_count": null,
   "metadata": {},
   "outputs": [],
   "source": []
  }
 ],
 "metadata": {
  "interpreter": {
   "hash": "916dbcbb3f70747c44a77c7bcd40155683ae19c65e1c03b4aa3499c5328201f1"
  },
  "kernelspec": {
   "display_name": "Python 3.8.10 64-bit",
   "language": "python",
   "name": "python3"
  },
  "language_info": {
   "name": "python",
   "version": "3.8.10"
  },
  "orig_nbformat": 4
 },
 "nbformat": 4,
 "nbformat_minor": 2
}
