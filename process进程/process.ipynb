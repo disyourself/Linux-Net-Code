{
 "cells": [
  {
   "cell_type": "markdown",
   "metadata": {},
   "source": [
    "# Process 进程\n",
    "\n",
    "**1s = 1000 ms**  \n",
    "**1 ms = 1000 us**  \n",
    "**1 us = 1000 ns**  \n",
    "\n",
    "### fork 函数\n",
    "\n",
    "\n",
    "> fork 是通过 写时拷贝(copy-on-write)\n",
    "\n",
    ">源文件共享只读 -> 需要写文件时拷贝    \n",
    " \n",
    ">需要写的资源 -> 自己 的虚拟地址空间"
   ]
  },
  {
   "cell_type": "markdown",
   "metadata": {},
   "source": [
    "# 进程间通信\n"
   ]
  },
  {
   "cell_type": "markdown",
   "metadata": {},
   "source": [
    "### 同一个主机"
   ]
  },
  {
   "cell_type": "markdown",
   "metadata": {},
   "source": [
    "\n",
    "\n",
    "\n",
    "#### 匿名管道（PIPE)\n",
    "\n",
    "- 管道----一个内核中的缓冲器，粗存能力有限，有文件的特质->读/写操作\n",
    "\n",
    "- [^匿名管道] 没有 文件实体 ， [^有名管道]有文件实体\n",
    "  - 单向的  \n",
    "  - 一次性的\n",
    "\n",
    "> 原理\n",
    "\n",
    "<p>不同进程之间，共享<b>虚拟内存空间</b>中的文件描述符(fd[1024])</p>\n",
    "\n",
    "\n",
    "        #include<unistd.h>\n",
    "        int pipe(int pipefd[2]);\n",
    "\n",
    "#### 管道的特点\n",
    "\n",
    "- 使用管道时要注意一下集中特殊情况\n",
    "\n",
    "  1. 所有的指向管道写端的文件描述符都被关闭了（管道写端饮用计数0），进程读数据，管道读完后，再次读read会返回0 和EOF一样；\n",
    "\n",
    "  2. 如果有指向管道写端的fd没有关闭（>0)，而持有者也没有写数据，读端完一次后再次read  会阻塞，知道写端再次写入才会继续；\n",
    "\n",
    "  3. 如果所有指向管道读端的文件描述符都关闭了（水管只进不出），这时候向其中写入，会受到一个信号SIGPIPE，通常进程会异常终止；\n",
    "\n",
    "  4. 如果有指向管道读端的文件描述符没有关闭（读>0)，也没有读数据，内容没有变少。此时有人写入，如果一直写入，写满后会阻塞，直到有空位置;\n",
    "\n",
    ">总结\n",
    ">- 读管道\n",
    "> - 管道中 有数据: read返回实际读到字节\n",
    "> - 管道中 无数据： \n",
    ">\n",
    ">              写端被全部关闭：read返回 0 （相当读到文件末尾）\n",
    ">              写端没有全部关闭： read  阻塞等待\n",
    ">- 写管道   \n",
    "> - 读端全部关闭： 异常终止（进程收到SIGPIPE信号）\n",
    "> - 读端没有完全关闭：\n",
    ">\n",
    ">              管道已满： write阻塞\n",
    ">              管道未满： 写入并返回实际写入的数字\n",
    "                \n",
    "  "
   ]
  },
  {
   "cell_type": "markdown",
   "metadata": {},
   "source": [
    "### 有名管道（FIFO）\n",
    ">First In First Out"
   ]
  },
  {
   "cell_type": "markdown",
   "metadata": {},
   "source": [
    "### 内存映射 (memory-map)\n",
    "\n",
    "- 注意事项\n",
    " 1. 可以对返回的ptr ++ -- 操作， 但是 munmap不行 ， 需要保存原地址\n",
    "\n",
    " 2. prot的权限 <= open的权限\n",
    " \n",
    " 3. 如果文件偏移量为1000会怎么样？\n",
    " \n",
    "        必须是1024的整数倍，返回 MAP_FAILED\n",
    "\n",
    "4. mmap什么情况下会调用失败？\n",
    "\n",
    "    - 第二个参数 length = 0\n",
    "    - 第三个参数 prot \n",
    "    \n",
    "        - 只给了写权限\n",
    "        - prot PROT_READ | PROT_WRITE  oepn制定了 只读或只写 O_RDONLY/O_WRONLY\n",
    "        \n",
    "\n",
    "5. 可以open的时候O_CREAT 一个新文件来创建映射区吗？\n",
    "    - 可以，但文件大小为0，无法映射\n",
    "    - 可以对文件进行扩展\n",
    "\n",
    "        lseek()\n",
    "        truncate()\n",
    "\n",
    "6. mmap关闭文件描述符，对mmap有影响吗？\n",
    "\n",
    "        int fd = open(\"XX\");\n",
    "        mmap(,,,,fd,0);\n",
    "        close(fd);\n",
    "\n",
    "    - 映射区还存在，fd被关闭，没有任何影响\n",
    "\n",
    "7. 对ptr 越界操作会怎么样（野地址）？\n",
    "\n",
    "        void * ptr = mmap(NULL,100,,,,,);\n",
    "        \n",
    "        越界操作是非法的内存>>段错误\n",
    "\n",
    "\n"
   ]
  },
  {
   "cell_type": "markdown",
   "metadata": {},
   "source": [
    "### 信号 SIGNAL\n"
   ]
  }
 ],
 "metadata": {
  "interpreter": {
   "hash": "916dbcbb3f70747c44a77c7bcd40155683ae19c65e1c03b4aa3499c5328201f1"
  },
  "kernelspec": {
   "display_name": "Python 3.8.10 64-bit",
   "language": "python",
   "name": "python3"
  },
  "language_info": {
   "name": "python",
   "version": "3.8.10"
  },
  "orig_nbformat": 4
 },
 "nbformat": 4,
 "nbformat_minor": 2
}
