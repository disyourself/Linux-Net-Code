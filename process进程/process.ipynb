{
 "cells": [
  {
   "cell_type": "markdown",
   "metadata": {},
   "source": [
    "# Process 进程\n",
    "\n",
    "**1s = 1000 ms**  \n",
    "**1 ms = 1000 us**  \n",
    "**1 us = 1000 ns**  \n",
    "\n",
    "### fork 函数\n",
    "\n",
    "\n",
    "> fork 是通过 写时拷贝(copy-on-write)\n",
    "\n",
    ">>源文件共享只读 -> 需要写文件时拷贝    \n",
    " \n",
    ">>>需要写的资源 -> 自己 的虚拟地址空间"
   ]
  }
 ],
 "metadata": {
  "interpreter": {
   "hash": "916dbcbb3f70747c44a77c7bcd40155683ae19c65e1c03b4aa3499c5328201f1"
  },
  "kernelspec": {
   "display_name": "Python 3.8.10 64-bit",
   "language": "python",
   "name": "python3"
  },
  "language_info": {
   "name": "python",
   "version": "3.8.10"
  },
  "orig_nbformat": 4
 },
 "nbformat": 4,
 "nbformat_minor": 2
}
